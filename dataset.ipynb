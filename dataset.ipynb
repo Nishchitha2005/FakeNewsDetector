{
 "cells": [
  {
   "cell_type": "code",
   "execution_count": null,
   "id": "4d819c1d-95e1-46ed-b5f4-3ec56d95dfc7",
   "metadata": {},
   "outputs": [],
   "source": []
  },
  {
   "cell_type": "code",
   "execution_count": null,
   "id": "cac32306-bd8d-4046-a49a-3eb1122ae641",
   "metadata": {},
   "outputs": [],
   "source": []
  },
  {
   "cell_type": "code",
   "execution_count": null,
   "id": "33aab2f8-ae9f-4a23-8d6b-719844628098",
   "metadata": {},
   "outputs": [],
   "source": []
  },
  {
   "cell_type": "code",
   "execution_count": null,
   "id": "250c27f6-eef5-4873-8f4f-b2157c303720",
   "metadata": {},
   "outputs": [],
   "source": [
    "\n"
   ]
  },
  {
   "cell_type": "code",
   "execution_count": null,
   "id": "5b194893-3637-4e0c-8cc2-2d02ef4074a1",
   "metadata": {},
   "outputs": [],
   "source": [
    "\n",
    "\n"
   ]
  },
  {
   "cell_type": "code",
   "execution_count": null,
   "id": "963c0ad4-2ef7-4380-a31f-3a499c0e762b",
   "metadata": {},
   "outputs": [],
   "source": [
    "\n"
   ]
  },
  {
   "cell_type": "code",
   "execution_count": null,
   "id": "f6305692-3358-4fbe-bbf1-9e29528acf5f",
   "metadata": {},
   "outputs": [],
   "source": []
  },
  {
   "cell_type": "code",
   "execution_count": 3,
   "id": "add7a828-64b4-442a-bfe2-d287700a94a2",
   "metadata": {},
   "outputs": [
    {
     "name": "stdout",
     "output_type": "stream",
     "text": [
      "Sample data:\n",
      "                                               title  \\\n",
      "0  Kandi Burruss Explodes Over Rape Accusation on...   \n",
      "1  People's Choice Awards 2018: The best red carp...   \n",
      "2  Sophia Bush Sends Sweet Birthday Message to 'O...   \n",
      "3  Colombian singer Maluma sparks rumours of inap...   \n",
      "4  Gossip Girl 10 Years Later: How Upper East Sid...   \n",
      "\n",
      "                                            news_url        source_domain  \\\n",
      "0  http://toofab.com/2017/05/08/real-housewives-a...           toofab.com   \n",
      "1  https://www.today.com/style/see-people-s-choic...        www.today.com   \n",
      "2  https://www.etonline.com/news/220806_sophia_bu...     www.etonline.com   \n",
      "3  https://www.dailymail.co.uk/news/article-33655...  www.dailymail.co.uk   \n",
      "4  https://www.zerchoo.com/entertainment/gossip-g...      www.zerchoo.com   \n",
      "\n",
      "   tweet_num  real  \n",
      "0         42     1  \n",
      "1          0     1  \n",
      "2         63     1  \n",
      "3         20     1  \n",
      "4         38     1  \n",
      "\n",
      "Dataset Info:\n",
      "<class 'pandas.core.frame.DataFrame'>\n",
      "RangeIndex: 23196 entries, 0 to 23195\n",
      "Data columns (total 5 columns):\n",
      " #   Column         Non-Null Count  Dtype \n",
      "---  ------         --------------  ----- \n",
      " 0   title          23196 non-null  object\n",
      " 1   news_url       22866 non-null  object\n",
      " 2   source_domain  22866 non-null  object\n",
      " 3   tweet_num      23196 non-null  int64 \n",
      " 4   real           23196 non-null  int64 \n",
      "dtypes: int64(2), object(3)\n",
      "memory usage: 906.2+ KB\n",
      "None\n",
      "\n",
      "Missing values:\n",
      "title              0\n",
      "news_url         330\n",
      "source_domain    330\n",
      "tweet_num          0\n",
      "real               0\n",
      "dtype: int64\n",
      "\n",
      "Summary statistics:\n",
      "                                 title  \\\n",
      "count                            23196   \n",
      "unique                           21724   \n",
      "top     Connecting People Through News   \n",
      "freq                                20   \n",
      "mean                               NaN   \n",
      "std                                NaN   \n",
      "min                                NaN   \n",
      "25%                                NaN   \n",
      "50%                                NaN   \n",
      "75%                                NaN   \n",
      "max                                NaN   \n",
      "\n",
      "                                                 news_url source_domain  \\\n",
      "count                                               22866         22866   \n",
      "unique                                              21658          2441   \n",
      "top     https://www.thewrap.com/this-is-us-everything-...    people.com   \n",
      "freq                                                   11          1786   \n",
      "mean                                                  NaN           NaN   \n",
      "std                                                   NaN           NaN   \n",
      "min                                                   NaN           NaN   \n",
      "25%                                                   NaN           NaN   \n",
      "50%                                                   NaN           NaN   \n",
      "75%                                                   NaN           NaN   \n",
      "max                                                   NaN           NaN   \n",
      "\n",
      "           tweet_num          real  \n",
      "count   23196.000000  23196.000000  \n",
      "unique           NaN           NaN  \n",
      "top              NaN           NaN  \n",
      "freq             NaN           NaN  \n",
      "mean       88.956803      0.751897  \n",
      "std       488.694592      0.431921  \n",
      "min         0.000000      0.000000  \n",
      "25%        11.000000      1.000000  \n",
      "50%        37.000000      1.000000  \n",
      "75%        65.000000      1.000000  \n",
      "max     29060.000000      1.000000  \n",
      "\n",
      "Dataset columns:\n",
      "Index(['title', 'news_url', 'source_domain', 'tweet_num', 'real'], dtype='object')\n"
     ]
    },
    {
     "data": {
      "image/png": "[encoded data removed]",
      "text/plain": [
       "<Figure size 640x480 with 1 Axes>"
      ]
     },
     "metadata": {},
     "output_type": "display_data"
    }
   ],
   "source": [
    "import pandas as pd\n",
    "import matplotlib.pyplot as plt\n",
    "import seaborn as sns\n",
    "\n",
    "# Load the dataset (update path if needed)\n",
    "df = pd.read_csv(\"FakeNewsNet.csv\")\n",
    "\n",
    "# Show first 5 rows\n",
    "print(\"Sample data:\")\n",
    "print(df.head())\n",
    "\n",
    "# Dataset info\n",
    "print(\"\\nDataset Info:\")\n",
    "print(df.info())\n",
    "\n",
    "# Check for missing values\n",
    "print(\"\\nMissing values:\")\n",
    "print(df.isnull().sum())\n",
    "\n",
    "# Summary statistics\n",
    "print(\"\\nSummary statistics:\")\n",
    "print(df.describe(include='all'))\n",
    "\n",
    "# Check column names\n",
    "print(\"\\nDataset columns:\")\n",
    "print(df.columns)\n",
    "\n",
    "# Distribution of real vs fake\n",
    "sns.countplot(x='real', data=df)\n",
    "plt.title(\"Distribution of Real vs Fake News (0=Fake, 1=Real)\")\n",
    "plt.show()\n"
   ]
  },
  {
   "cell_type": "code",
   "execution_count": null,
   "id": "ba866a3b-c023-4804-af50-90e001ef47fb",
   "metadata": {},
   "outputs": [],
   "source": []
  }
 ],
 "metadata": {
  "kernelspec": {
   "display_name": "Python 3 (ipykernel)",
   "language": "python",
   "name": "python3"
  },
  "language_info": {
   "codemirror_mode": {
    "name": "ipython",
    "version": 3
   },
   "file_extension": ".py",
   "mimetype": "text/x-python",
   "name": "python",
   "nbconvert_exporter": "python",
   "pygments_lexer": "ipython3",
   "version": "3.13.5"
  }
 },
 "nbformat": 4,
 "nbformat_minor": 5
}
